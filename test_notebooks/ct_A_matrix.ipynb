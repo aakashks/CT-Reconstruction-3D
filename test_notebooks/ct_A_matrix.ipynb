{
 "nbformat": 4,
 "nbformat_minor": 0,
 "metadata": {
  "colab": {
   "provenance": [],
   "gpuType": "T4"
  },
  "kernelspec": {
   "name": "python3",
   "language": "python",
   "display_name": "Python 3 (ipykernel)"
  },
  "language_info": {
   "name": "python"
  },
  "accelerator": "GPU"
 },
 "cells": [
  {
   "cell_type": "code",
   "source": [
    "import torch\n",
    "\n",
    "from utils import *\n",
    "from core import *\n",
    "\n",
    "device = torch.device('cuda')\n"
   ],
   "metadata": {
    "id": "tmlCKXSDIVv7",
    "ExecuteTime": {
     "end_time": "2023-10-14T11:12:12.797383900Z",
     "start_time": "2023-10-14T11:12:08.214107400Z"
    }
   },
   "execution_count": 1,
   "outputs": []
  },
  {
   "cell_type": "code",
   "execution_count": 2,
   "outputs": [],
   "source": [
    "# add code of core file (if running online)"
   ],
   "metadata": {
    "collapsed": false,
    "ExecuteTime": {
     "end_time": "2023-10-14T11:12:12.813018300Z",
     "start_time": "2023-10-14T11:12:12.797383900Z"
    }
   }
  },
  {
   "cell_type": "code",
   "source": [
    "gc.collect()\n",
    "torch.cuda.empty_cache()"
   ],
   "metadata": {
    "id": "xHfM8WlBHYm7",
    "ExecuteTime": {
     "end_time": "2023-10-14T11:12:12.922858200Z",
     "start_time": "2023-10-14T11:12:12.813018300Z"
    }
   },
   "execution_count": 3,
   "outputs": []
  },
  {
   "cell_type": "code",
   "source": [
    "n = 200\n",
    "\n",
    "cim = CreateInterceptMatrix(\n",
    "    detector_plate_length=n,\n",
    "    source_to_detector=200,\n",
    "    source_to_object=160,\n",
    "    pixel_size=48/n,\n",
    "    projections=n,\n",
    "    dtype=torch.float32\n",
    ")"
   ],
   "metadata": {
    "id": "GP_16RnDjeKq",
    "ExecuteTime": {
     "end_time": "2023-10-14T11:12:12.938479800Z",
     "start_time": "2023-10-14T11:12:12.922858200Z"
    }
   },
   "execution_count": 4,
   "outputs": []
  },
  {
   "cell_type": "code",
   "source": [
    "A = cim.intercepts_for_ray(ray_coords=torch.tensor([[2, 0, 0]]))"
   ],
   "metadata": {
    "id": "UQ8gKPPXkIB5",
    "ExecuteTime": {
     "end_time": "2023-10-14T11:23:00.316768600Z",
     "start_time": "2023-10-14T11:22:59.705242300Z"
    }
   },
   "execution_count": 16,
   "outputs": []
  }
 ]
}
