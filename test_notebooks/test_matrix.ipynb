{
 "metadata": {
  "kernelspec": {
   "language": "python",
   "display_name": "Python 3",
   "name": "python3"
  },
  "language_info": {
   "name": "python",
   "version": "3.10.12",
   "mimetype": "text/x-python",
   "codemirror_mode": {
    "name": "ipython",
    "version": 3
   },
   "pygments_lexer": "ipython3",
   "nbconvert_exporter": "python",
   "file_extension": ".py"
  }
 },
 "nbformat_minor": 4,
 "nbformat": 4,
 "cells": [
  {
   "cell_type": "code",
   "source": [
    "import torch\n",
    "from utils import *\n",
    "from core import *\n",
    "\n",
    "device = 'cuda'"
   ],
   "metadata": {
    "_uuid": "8f2839f25d086af736a60e9eeb907d3b93b6e0e5",
    "_cell_guid": "b1076dfc-b9ad-4769-8c92-a6c4dae69d19",
    "execution": {
     "iopub.status.busy": "2023-10-15T09:43:54.502699Z",
     "iopub.execute_input": "2023-10-15T09:43:54.503081Z",
     "iopub.status.idle": "2023-10-15T09:43:59.859483Z",
     "shell.execute_reply.started": "2023-10-15T09:43:54.503051Z",
     "shell.execute_reply": "2023-10-15T09:43:59.858154Z"
    },
    "trusted": true,
    "ExecuteTime": {
     "end_time": "2023-10-15T13:07:39.155269900Z",
     "start_time": "2023-10-15T13:07:37.294665600Z"
    }
   },
   "execution_count": 29,
   "outputs": []
  },
  {
   "cell_type": "code",
   "execution_count": 30,
   "outputs": [
    {
     "name": "stdout",
     "output_type": "stream",
     "text": [
      "The autoreload extension is already loaded. To reload it, use:\n",
      "  %reload_ext autoreload\n"
     ]
    }
   ],
   "source": [
    "%load_ext autoreload\n",
    "%autoreload 2"
   ],
   "metadata": {
    "collapsed": false,
    "ExecuteTime": {
     "end_time": "2023-10-15T13:07:39.155269900Z",
     "start_time": "2023-10-15T13:07:37.591903200Z"
    }
   }
  },
  {
   "cell_type": "code",
   "execution_count": 31,
   "outputs": [],
   "source": [
    "# using v0.1 produced tensors\n",
    "\n",
    "indices = torch.load('matrix_200/indices_rot4.pt')\n",
    "indices[0] = indices[0] - 4*200*200\n",
    "values = torch.load('matrix_200/values_rot4.pt')"
   ],
   "metadata": {
    "collapsed": false,
    "ExecuteTime": {
     "end_time": "2023-10-15T13:07:39.169813800Z",
     "start_time": "2023-10-15T13:07:37.888787400Z"
    }
   }
  },
  {
   "cell_type": "code",
   "execution_count": 32,
   "outputs": [
    {
     "data": {
      "text/plain": "torch.Size([40000, 8000000])"
     },
     "execution_count": 32,
     "metadata": {},
     "output_type": "execute_result"
    }
   ],
   "source": [
    "A = torch.sparse_coo_tensor(indices, values, size=[200*200, 200*200*200], dtype=torch.float32)\n",
    "A.shape"
   ],
   "metadata": {
    "collapsed": false,
    "ExecuteTime": {
     "end_time": "2023-10-15T13:07:39.313880400Z",
     "start_time": "2023-10-15T13:07:38.215639500Z"
    }
   }
  },
  {
   "cell_type": "code",
   "execution_count": 33,
   "outputs": [
    {
     "data": {
      "text/plain": "tensor(indices=tensor([[      0,       0,       0,  ...,   39998,   39998,\n                          39999],\n                       [ 242600,  282600,  282601,  ..., 7599803, 7599804,\n                        7599803]]),\n       values=tensor([0.3875, 0.0000, 0.3855,  ..., 0.0025, 0.0008, 0.3962]),\n       size=(40000, 8000000), nnz=9775111, layout=torch.sparse_coo)"
     },
     "execution_count": 33,
     "metadata": {},
     "output_type": "execute_result"
    }
   ],
   "source": [
    "A"
   ],
   "metadata": {
    "collapsed": false,
    "ExecuteTime": {
     "end_time": "2023-10-15T13:07:39.603071100Z",
     "start_time": "2023-10-15T13:07:39.298323400Z"
    }
   }
  },
  {
   "cell_type": "code",
   "execution_count": 36,
   "outputs": [
    {
     "data": {
      "text/plain": "tensor(indices=tensor([[      0,       0,       0,  ...,   39998,   39998,\n                          39999],\n                       [ 242600,  282600,  282601,  ..., 7599803, 7599804,\n                        7599803]]),\n       values=tensor([0.3875, 0.0000, 0.3855,  ..., 0.0025, 0.0008, 0.3962]),\n       size=(40000, 8000000), nnz=9775111, layout=torch.sparse_coo)"
     },
     "execution_count": 36,
     "metadata": {},
     "output_type": "execute_result"
    }
   ],
   "source": [
    "A_ = torch.load('matrix_200/matrix_rot_5.pt')"
   ],
   "metadata": {
    "collapsed": false,
    "ExecuteTime": {
     "end_time": "2023-10-15T13:07:52.454064400Z",
     "start_time": "2023-10-15T13:07:50.825362500Z"
    }
   }
  },
  {
   "cell_type": "code",
   "source": [
    "projections = torch.load('test_data/projections_scaled.pt')\n",
    "recons = torch.load('test_data/recon_scaled.pt')\n",
    "recons.shape, projections.shape"
   ],
   "metadata": {
    "execution": {
     "iopub.status.busy": "2023-10-15T09:44:00.589916Z",
     "iopub.status.idle": "2023-10-15T09:44:00.591136Z",
     "shell.execute_reply.started": "2023-10-15T09:44:00.590735Z",
     "shell.execute_reply": "2023-10-15T09:44:00.590760Z"
    },
    "trusted": true,
    "ExecuteTime": {
     "end_time": "2023-10-15T13:08:11.109007Z",
     "start_time": "2023-10-15T13:08:10.465065600Z"
    }
   },
   "execution_count": 43,
   "outputs": [
    {
     "data": {
      "text/plain": "True"
     },
     "execution_count": 43,
     "metadata": {},
     "output_type": "execute_result"
    }
   ]
  },
  {
   "cell_type": "code",
   "source": [
    "recons_filled = torch.zeros(200, 200, 200)\n",
    "recons_filled.shape"
   ],
   "metadata": {
    "execution": {
     "iopub.status.busy": "2023-10-15T09:44:00.594750Z",
     "iopub.status.idle": "2023-10-15T09:44:00.595311Z",
     "shell.execute_reply.started": "2023-10-15T09:44:00.595043Z",
     "shell.execute_reply": "2023-10-15T09:44:00.595067Z"
    },
    "trusted": true,
    "ExecuteTime": {
     "end_time": "2023-10-15T13:07:53.527416500Z",
     "start_time": "2023-10-15T13:07:53.002609100Z"
    }
   },
   "execution_count": 38,
   "outputs": [
    {
     "data": {
      "text/plain": "(torch.Size([179, 200, 200]), torch.Size([200, 200, 200]))"
     },
     "execution_count": 38,
     "metadata": {},
     "output_type": "execute_result"
    }
   ]
  },
  {
   "cell_type": "code",
   "source": [
    "recons_filled[12:191, :, :] = recons"
   ],
   "metadata": {
    "execution": {
     "iopub.status.busy": "2023-10-15T09:44:00.596612Z",
     "iopub.status.idle": "2023-10-15T09:44:00.597132Z",
     "shell.execute_reply.started": "2023-10-15T09:44:00.596877Z",
     "shell.execute_reply": "2023-10-15T09:44:00.596902Z"
    },
    "trusted": true,
    "ExecuteTime": {
     "end_time": "2023-10-15T13:07:53.914133Z",
     "start_time": "2023-10-15T13:07:53.511793400Z"
    }
   },
   "execution_count": 39,
   "outputs": [
    {
     "data": {
      "text/plain": "torch.Size([200, 200, 200])"
     },
     "execution_count": 39,
     "metadata": {},
     "output_type": "execute_result"
    }
   ]
  },
  {
   "cell_type": "code",
   "source": [
    "proj = torch.sparse.mm(A.to(torch.float32), recons_filled.flatten().view(-1, 1))\n",
    "proj.shape"
   ],
   "metadata": {
    "execution": {
     "iopub.status.busy": "2023-10-15T09:44:00.601248Z",
     "iopub.status.idle": "2023-10-15T09:44:00.601627Z",
     "shell.execute_reply.started": "2023-10-15T09:44:00.601466Z",
     "shell.execute_reply": "2023-10-15T09:44:00.601484Z"
    },
    "trusted": true,
    "ExecuteTime": {
     "end_time": "2023-10-15T13:07:54.386704500Z",
     "start_time": "2023-10-15T13:07:53.914133Z"
    }
   },
   "execution_count": 40,
   "outputs": []
  },
  {
   "cell_type": "code",
   "source": [
    "img = proj.view(200, 200)"
   ],
   "metadata": {
    "execution": {
     "iopub.status.busy": "2023-10-15T09:44:00.603121Z",
     "iopub.status.idle": "2023-10-15T09:44:00.603495Z",
     "shell.execute_reply.started": "2023-10-15T09:44:00.603306Z",
     "shell.execute_reply": "2023-10-15T09:44:00.603322Z"
    },
    "trusted": true,
    "ExecuteTime": {
     "end_time": "2023-10-15T13:07:55.295131100Z",
     "start_time": "2023-10-15T13:07:54.386704500Z"
    }
   },
   "execution_count": 41,
   "outputs": [
    {
     "data": {
      "text/plain": "torch.Size([40000, 1])"
     },
     "execution_count": 41,
     "metadata": {},
     "output_type": "execute_result"
    }
   ]
  },
  {
   "cell_type": "code",
   "source": [
    "plot_2d_images(img.cpu(), projections[:, :, 5].cpu())"
   ],
   "metadata": {
    "execution": {
     "iopub.status.busy": "2023-10-15T09:44:00.605237Z",
     "iopub.status.idle": "2023-10-15T09:44:00.605587Z",
     "shell.execute_reply.started": "2023-10-15T09:44:00.605426Z",
     "shell.execute_reply": "2023-10-15T09:44:00.605442Z"
    },
    "trusted": true,
    "ExecuteTime": {
     "end_time": "2023-10-15T13:07:55.519471100Z",
     "start_time": "2023-10-15T13:07:55.279518900Z"
    }
   },
   "execution_count": 42,
   "outputs": []
  }
 ]
}
