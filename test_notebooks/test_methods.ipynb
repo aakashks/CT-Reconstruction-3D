{
 "nbformat": 4,
 "nbformat_minor": 0,
 "metadata": {
  "colab": {
   "provenance": [],
   "gpuType": "T4"
  },
  "kernelspec": {
   "name": "python3",
   "language": "python",
   "display_name": "Python 3 (ipykernel)"
  },
  "language_info": {
   "name": "python"
  },
  "accelerator": "GPU"
 },
 "cells": [
  {
   "cell_type": "code",
   "source": [
    "import matplotlib.pyplot as plt\n",
    "import torch\n",
    "\n",
    "from utils import *\n",
    "from core import *\n",
    "\n",
    "device = torch.device('cuda')\n"
   ],
   "metadata": {
    "id": "tmlCKXSDIVv7",
    "ExecuteTime": {
     "end_time": "2023-10-15T06:51:20.249795100Z",
     "start_time": "2023-10-15T06:51:10.469730500Z"
    }
   },
   "execution_count": 1,
   "outputs": []
  },
  {
   "cell_type": "code",
   "execution_count": 2,
   "outputs": [],
   "source": [
    "# add code of core file (if running online)\n",
    "\n",
    "# hot reload if running locally\n",
    "%load_ext autoreload\n",
    "%autoreload 2"
   ],
   "metadata": {
    "collapsed": false,
    "ExecuteTime": {
     "end_time": "2023-10-15T06:51:20.784794400Z",
     "start_time": "2023-10-15T06:51:20.251799300Z"
    }
   }
  },
  {
   "cell_type": "code",
   "source": [
    "gc.collect()\n",
    "torch.cuda.empty_cache()"
   ],
   "metadata": {
    "id": "xHfM8WlBHYm7",
    "ExecuteTime": {
     "end_time": "2023-10-15T06:51:21.403144700Z",
     "start_time": "2023-10-15T06:51:20.785795100Z"
    }
   },
   "execution_count": 3,
   "outputs": []
  },
  {
   "cell_type": "code",
   "source": [
    "n = 100\n",
    "\n",
    "cim = CreateInterceptMatrix(\n",
    "    detector_plate_length=n,\n",
    "    source_to_detector=200,\n",
    "    source_to_object=160,\n",
    "    pixel_size=48/n,\n",
    "    projections=n,\n",
    "    dtype=torch.float32\n",
    ")"
   ],
   "metadata": {
    "id": "GP_16RnDjeKq",
    "ExecuteTime": {
     "end_time": "2023-10-15T06:51:21.885115300Z",
     "start_time": "2023-10-15T06:51:21.404144900Z"
    }
   },
   "execution_count": 4,
   "outputs": []
  },
  {
   "cell_type": "markdown",
   "source": [
    "## Generate Rays"
   ],
   "metadata": {
    "collapsed": false
   }
  },
  {
   "cell_type": "code",
   "execution_count": 5,
   "outputs": [
    {
     "data": {
      "text/plain": "tensor([-23.8800, -23.6400, -23.4000, -23.1600, -22.9200, -22.6800, -22.4400,\n        -22.2000, -21.9600, -21.7200, -21.4800, -21.2400, -21.0000, -20.7600,\n        -20.5200, -20.2800, -20.0400, -19.8000, -19.5600, -19.3200, -19.0800,\n        -18.8400, -18.6000, -18.3600, -18.1200, -17.8800, -17.6400, -17.4000,\n        -17.1600, -16.9200, -16.6800, -16.4400, -16.2000, -15.9600, -15.7200,\n        -15.4800, -15.2400, -15.0000, -14.7600, -14.5200, -14.2800, -14.0400,\n        -13.8000, -13.5600, -13.3200, -13.0800, -12.8400, -12.6000, -12.3600,\n        -12.1200, -11.8800, -11.6400, -11.4000, -11.1600, -10.9200, -10.6800,\n        -10.4400, -10.2000,  -9.9600,  -9.7200,  -9.4800,  -9.2400,  -9.0000,\n         -8.7600,  -8.5200,  -8.2800,  -8.0400,  -7.8000,  -7.5600,  -7.3200,\n         -7.0800,  -6.8400,  -6.6000,  -6.3600,  -6.1200,  -5.8800,  -5.6400,\n         -5.4000,  -5.1600,  -4.9200,  -4.6800,  -4.4400,  -4.2000,  -3.9600,\n         -3.7200,  -3.4800,  -3.2400,  -3.0000,  -2.7600,  -2.5200,  -2.2800,\n         -2.0400,  -1.8000,  -1.5600,  -1.3200,  -1.0800,  -0.8400,  -0.6000,\n         -0.3600,  -0.1200,   0.1200,   0.3600,   0.6000,   0.8400,   1.0800,\n          1.3200,   1.5600,   1.8000,   2.0400,   2.2800,   2.5200,   2.7600,\n          3.0000,   3.2400,   3.4800,   3.7200,   3.9600,   4.2000,   4.4400,\n          4.6800,   4.9200,   5.1600,   5.4000,   5.6400,   5.8800,   6.1200,\n          6.3600,   6.6000,   6.8400,   7.0800,   7.3200,   7.5600,   7.8000,\n          8.0400,   8.2800,   8.5200,   8.7600,   9.0000,   9.2400,   9.4800,\n          9.7200,   9.9600,  10.2000,  10.4400,  10.6800,  10.9200,  11.1600,\n         11.4000,  11.6400,  11.8800,  12.1200,  12.3600,  12.6000,  12.8400,\n         13.0800,  13.3200,  13.5600,  13.8000,  14.0400,  14.2800,  14.5200,\n         14.7600,  15.0000,  15.2400,  15.4800,  15.7200,  15.9600,  16.2000,\n         16.4400,  16.6800,  16.9200,  17.1600,  17.4000,  17.6400,  17.8800,\n         18.1200,  18.3600,  18.6000,  18.8400,  19.0800,  19.3200,  19.5600,\n         19.8000,  20.0400,  20.2800,  20.5200,  20.7600,  21.0000,  21.2400,\n         21.4800,  21.7200,  21.9600,  22.2000,  22.4400,  22.6800,  22.9200,\n         23.1600,  23.4000,  23.6400,  23.8800], device='cuda:0')"
     },
     "execution_count": 5,
     "metadata": {},
     "output_type": "execute_result"
    }
   ],
   "source": [
    "n = 200\n",
    "ps = 48/n\n",
    "dtype = torch.float32\n",
    "x = torch.arange(-n + 1, n, 2, device=device, dtype=dtype) / 2 * ps\n",
    "x"
   ],
   "metadata": {
    "collapsed": false,
    "ExecuteTime": {
     "end_time": "2023-10-15T06:51:27.460271900Z",
     "start_time": "2023-10-15T06:51:21.874103500Z"
    }
   }
  },
  {
   "cell_type": "code",
   "execution_count": 6,
   "outputs": [
    {
     "data": {
      "text/plain": "(torch.Size([2, 200, 200]), torch.Size([200, 200]), torch.Size([200, 200]))"
     },
     "execution_count": 6,
     "metadata": {},
     "output_type": "execute_result"
    },
    {
     "data": {
      "text/plain": "<Figure size 640x480 with 2 Axes>",
      "image/png": "[encoded data removed]"
     },
     "metadata": {},
     "output_type": "display_data"
    }
   ],
   "source": [
    "detector_coords = torch.stack(torch.meshgrid(x, x, indexing='xy'), 0)\n",
    "a = detector_coords[0]\n",
    "b = detector_coords[1]\n",
    "\n",
    "plt.subplot(1, 2, 1)\n",
    "plt.imshow(a.cpu())\n",
    "plt.subplot(1, 2, 2)\n",
    "plt.imshow(b.cpu())\n",
    "detector_coords.shape, a.shape, b.shape"
   ],
   "metadata": {
    "collapsed": false,
    "ExecuteTime": {
     "end_time": "2023-10-15T06:51:29.209821700Z",
     "start_time": "2023-10-15T06:51:27.447272200Z"
    }
   }
  },
  {
   "cell_type": "code",
   "execution_count": 7,
   "outputs": [
    {
     "data": {
      "text/plain": "torch.Size([10, 1, 1])"
     },
     "execution_count": 7,
     "metadata": {},
     "output_type": "execute_result"
    }
   ],
   "source": [
    "phis = torch.linspace(0, torch.pi/2, 10, device=device, dtype=dtype).reshape(-1, 1, 1)\n",
    "phis.shape"
   ],
   "metadata": {
    "collapsed": false,
    "ExecuteTime": {
     "end_time": "2023-10-15T06:51:29.765539800Z",
     "start_time": "2023-10-15T06:51:29.175817600Z"
    }
   }
  },
  {
   "cell_type": "code",
   "execution_count": 8,
   "outputs": [
    {
     "data": {
      "text/plain": "torch.Size([10, 1, 1])"
     },
     "execution_count": 8,
     "metadata": {},
     "output_type": "execute_result"
    }
   ],
   "source": [
    "mu = 40\n",
    "lambd = 160\n",
    "c = torch.cos(phis)\n",
    "s = torch.sin(phis)\n",
    "c.shape"
   ],
   "metadata": {
    "collapsed": false,
    "ExecuteTime": {
     "end_time": "2023-10-15T06:51:30.487176700Z",
     "start_time": "2023-10-15T06:51:29.727539500Z"
    }
   }
  },
  {
   "cell_type": "code",
   "execution_count": 9,
   "outputs": [
    {
     "data": {
      "text/plain": "(torch.Size([10, 200, 200]),\n torch.Size([10, 200, 200]),\n torch.Size([10, 1, 1]))"
     },
     "execution_count": 9,
     "metadata": {},
     "output_type": "execute_result"
    }
   ],
   "source": [
    "alphas = (a * lambd + lambd * mu * s) / (a * s + mu + lambd * c ** 2)\n",
    "betas = b / (1 - (mu + alphas * s) / (alphas * s - lambd))\n",
    "\n",
    "alphas.shape, betas.shape, phis.shape"
   ],
   "metadata": {
    "collapsed": false,
    "ExecuteTime": {
     "end_time": "2023-10-15T06:51:31.068174800Z",
     "start_time": "2023-10-15T06:51:30.460176200Z"
    }
   }
  },
  {
   "cell_type": "code",
   "execution_count": 22,
   "outputs": [
    {
     "data": {
      "text/plain": "tensor(indices=tensor([[  0,   0,   0,  ...,   3,   3,   3],\n                       [  0,   0,   0,  ..., 199, 199, 199],\n                       [  0,   1,   2,  ...,  14,  15,  16]]),\n       values=tensor([True, True, True,  ..., True, True, True]),\n       device='cuda:0', size=(10, 200, 200), nnz=46200, layout=torch.sparse_coo)"
     },
     "execution_count": 22,
     "metadata": {},
     "output_type": "execute_result"
    }
   ],
   "source": [
    "a = ((alphas < 0.000001).to_sparse_coo())\n",
    "a"
   ],
   "metadata": {
    "collapsed": false,
    "ExecuteTime": {
     "end_time": "2023-10-15T06:53:30.707172900Z",
     "start_time": "2023-10-15T06:53:29.781161500Z"
    }
   }
  },
  {
   "cell_type": "code",
   "execution_count": 31,
   "outputs": [
    {
     "data": {
      "text/plain": "46200"
     },
     "execution_count": 31,
     "metadata": {},
     "output_type": "execute_result"
    }
   ],
   "source": [
    "len(a.values())"
   ],
   "metadata": {
    "collapsed": false,
    "ExecuteTime": {
     "end_time": "2023-10-15T06:54:49.813079300Z",
     "start_time": "2023-10-15T06:54:49.593885600Z"
    }
   }
  },
  {
   "cell_type": "code",
   "execution_count": 77,
   "outputs": [
    {
     "data": {
      "text/plain": "True"
     },
     "execution_count": 77,
     "metadata": {},
     "output_type": "execute_result"
    }
   ],
   "source": [
    "w = torch.broadcast_to(phis, [10, 200, 200])\n",
    "e = phis + torch.zeros_like(alphas)\n",
    "torch.allclose(w, e)"
   ],
   "metadata": {
    "collapsed": false,
    "ExecuteTime": {
     "end_time": "2023-10-14T21:42:25.259519100Z",
     "start_time": "2023-10-14T21:42:25.000125800Z"
    }
   }
  },
  {
   "cell_type": "markdown",
   "source": [
    "## Complete code"
   ],
   "metadata": {
    "collapsed": false
   }
  }
 ]
}
